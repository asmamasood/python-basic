{
  "nbformat": 4,
  "nbformat_minor": 0,
  "metadata": {
    "colab": {
      "provenance": [],
      "authorship_tag": "ABX9TyM/px3hsorAKJzUzZ1TtpNu",
      "include_colab_link": true
    },
    "kernelspec": {
      "name": "python3",
      "display_name": "Python 3"
    },
    "language_info": {
      "name": "python"
    }
  },
  "cells": [
    {
      "cell_type": "markdown",
      "metadata": {
        "id": "view-in-github",
        "colab_type": "text"
      },
      "source": [
        "<a href=\"https://colab.research.google.com/github/asmamasood/python-basic/blob/main/Datatype_py.ipynb\" target=\"_parent\"><img src=\"https://colab.research.google.com/assets/colab-badge.svg\" alt=\"Open In Colab\"/></a>"
      ]
    },
    {
      "cell_type": "code",
      "execution_count": null,
      "metadata": {
        "id": "1nxQpWTetEbG"
      },
      "outputs": [],
      "source": [
        "# Basic Data Types\n",
        "age = 25              # int\n",
        "price = 10.5          # float\n",
        "name = \"Asma\"         # str\n",
        "is_active = True      # bool\n",
        "nothing = None        # NoneType\n",
        "\n",
        "# Collection Types\n",
        "fruits = [\"apple\", \"banana\", \"mango\"]    # list\n",
        "coordinates = (10.5, 20.5)               # tuple\n",
        "unique_ids = {101, 102, 103}            # set\n",
        "person = {\"name\": \"Asma\", \"age\": 25}    # dict\n",
        "\n",
        "# Type Conversion\n",
        "\n",
        "# Implicit Type Conversion (Automatically by Python)\n",
        "a = 5       # int\n",
        "b = 2.0     # float\n",
        "\n",
        "result = a + b  # int + float = float\n",
        "print(result)       # Output: 7.0\n",
        "print(type(result)) # Output: <class 'float'>\n",
        "\n",
        "# Explicit Type Conversion (Manually by the programmer)\n",
        "\n",
        "# str -> int\n",
        "\n",
        "num_str = \"100\"\n",
        "num_int = int(num_str)\n",
        "\n",
        "print(num_int + 20)   # Output: 120\n",
        "print(type(num_int))  # Output: <class 'int'>\n",
        "\n",
        "# int -> float\n",
        "\n",
        "x = 10\n",
        "y = float(x)\n",
        "\n",
        "print(y)          # Output: 10.0\n",
        "print(type(y))    # Output: <class 'float'>\n",
        "\n",
        "# list convert str to tuple\n",
        "\n",
        "s = \"hello\"\n",
        "print(list(s))  # Output: ['h', 'e', 'l', 'l', 'o']\n",
        "\n",
        "t = (1, 2, 3)\n",
        "print(list(t))  # Output: [1, 2, 3]\n",
        "\n"
      ]
    }
  ]
}