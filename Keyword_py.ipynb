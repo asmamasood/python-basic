{
  "nbformat": 4,
  "nbformat_minor": 0,
  "metadata": {
    "colab": {
      "provenance": [],
      "authorship_tag": "ABX9TyNmCoVm603TgWzbxTWzxftz",
      "include_colab_link": true
    },
    "kernelspec": {
      "name": "python3",
      "display_name": "Python 3"
    },
    "language_info": {
      "name": "python"
    }
  },
  "cells": [
    {
      "cell_type": "markdown",
      "metadata": {
        "id": "view-in-github",
        "colab_type": "text"
      },
      "source": [
        "<a href=\"https://colab.research.google.com/github/asmamasood/python-basic/blob/main/Keyword_py.ipynb\" target=\"_parent\"><img src=\"https://colab.research.google.com/assets/colab-badge.svg\" alt=\"Open In Colab\"/></a>"
      ]
    },
    {
      "cell_type": "code",
      "execution_count": null,
      "metadata": {
        "id": "RbL4Uy6qwWnO"
      },
      "outputs": [],
      "source": [
        "# None: represents nothing / null value\n",
        "x = None\n",
        "print(x)             # Output: None\n",
        "print(type(x))       # Output: <class 'NoneType'>\n",
        "\n",
        "# True and False: Boolean values\n",
        "is_active = True\n",
        "is_deleted = False\n",
        "\n",
        "print(is_active)     # Output: True\n",
        "print(is_deleted)    # Output: False\n",
        "\n",
        "# Boolean logic\n",
        "print(5 > 3)         # Output: True\n",
        "print(2 == 4)        # Output: False\n",
        "\n",
        "# is: checks if two variables point to same object (identity)\n",
        "a = None\n",
        "print(a is None)     # Output: True\n",
        "\n",
        "# in: checks for membership\n",
        "fruits = [\"apple\", \"banana\", \"mango\"]\n",
        "print(\"apple\" in fruits)     # Output: True\n",
        "print(\"grape\" in fruits)     # Output: False\n",
        "\n",
        "# not: logical negation\n",
        "x = False\n",
        "print(not x)         # Output: True\n",
        "\n",
        "# and: returns True if both conditions are True\n",
        "age = 20\n",
        "has_id = True\n",
        "print(age >= 18 and has_id)  # Output: True\n",
        "\n",
        "# or: returns True if at least one condition is True\n",
        "is_student = False\n",
        "is_employee = True\n",
        "print(is_student or is_employee)  # Output: True\n",
        "\n",
        "# del: deletes a variable or element\n",
        "x = [10, 20, 30]\n",
        "del x[1]\n",
        "print(x)            # Output: [10, 30]\n",
        "\n",
        "# pass: does nothing (used as placeholder)\n",
        "def future_function():\n",
        "    pass  # We'll write this later\n",
        "\n",
        "# break: exits loop completely\n",
        "for i in range(5):\n",
        "    if i == 3:\n",
        "        break\n",
        "    print(i)\n",
        "# Output: 0 1 2\n",
        "\n",
        "# continue: skips current iteration\n",
        "for i in range(5):\n",
        "    if i == 2:\n",
        "        continue\n",
        "    print(i)\n",
        "# Output: 0 1 3 4\n",
        "\n"
      ]
    }
  ]
}